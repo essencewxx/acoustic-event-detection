{
 "cells": [
  {
   "cell_type": "markdown",
   "metadata": {},
   "source": [
    "# Load data"
   ]
  },
  {
   "cell_type": "code",
   "execution_count": 38,
   "metadata": {},
   "outputs": [],
   "source": [
    "import os\n",
    "import pandas as pd\n",
    "import librosa\n",
    "\n",
    "def load_positive_data(root_dir, sample_rate=16000):\n",
    "    \"\"\"\n",
    "    Load positive (cough) segments from a dataset where each sample is in its own folder.\n",
    "\n",
    "    Parameters:\n",
    "    - root_dir: Root directory containing positive sample folders.\n",
    "    - sample_rate: Sampling rate for loading audio files.\n",
    "\n",
    "    Returns:\n",
    "    - segments: List of NumPy arrays containing cough audio segments.\n",
    "    \"\"\"\n",
    "    segments = []\n",
    "    # Iterate over each sample folder\n",
    "    for sample_folder in os.listdir(root_dir):\n",
    "        sample_path = os.path.join(root_dir, sample_folder)\n",
    "        print(sample_path)\n",
    "        if os.path.isdir(sample_path):\n",
    "            # Define paths to audio and label files\n",
    "            audio_file = os.path.join(sample_path, 'data.wav')\n",
    "            label_file = os.path.join(sample_path, 'label.label')\n",
    "            # Check if both files exist\n",
    "            if os.path.exists(audio_file) and os.path.exists(label_file):\n",
    "                # Load audio file\n",
    "                audio, sr = librosa.load(audio_file, sr=sample_rate)\n",
    "                # Load labels\n",
    "                labels = pd.read_csv(label_file)\n",
    "                # Ensure labels have the necessary columns\n",
    "                if {'Time(Seconds)', 'Length(Seconds)'}.issubset(labels.columns):\n",
    "                    for index, row in labels.iterrows():\n",
    "                        start_sample = int(row['Time(Seconds)'] * sr)\n",
    "                        end_sample = int((row['Time(Seconds)'] + row['Length(Seconds)']) * sr)\n",
    "                        segment = audio[start_sample:end_sample]\n",
    "                        segments.append(segment)\n",
    "                else:\n",
    "                    print(f\"Label file {label_file} missing 'Time(Seconds)' or 'Length(Seconds)' columns.\")\n",
    "            else:\n",
    "                print(f\"Missing audio or label file in {sample_path}.\")\n",
    "    return segments"
   ]
  },
  {
   "cell_type": "code",
   "execution_count": 39,
   "metadata": {},
   "outputs": [
    {
     "name": "stdout",
     "output_type": "stream",
     "text": [
      "data/raw/positive/coughing/mix2_cough_train\n",
      "data/raw/positive/coughing/407839__bobtheross__coughing\n",
      "data/raw/positive/coughing/594629__tshepangncwane_200253__coughing\n",
      "data/raw/positive/coughing/184871__eelke__coughing\n",
      "data/raw/positive/coughing/155650__poorenglishjuggler__cough\n",
      "data/raw/positive/coughing/366229__millonlazaruspillay__coughing\n",
      "data/raw/positive/coughing/.DS_Store\n",
      "data/raw/positive/coughing/mix4_cough_train\n",
      "data/raw/positive/coughing/457972__fabrizio84__cough\n",
      "data/raw/positive/coughing/408086__biawinter__cough\n",
      "data/raw/positive/coughing/mix1_cough_train\n",
      "data/raw/positive/coughing/425777__thatkellytrna__girl-cough\n",
      "data/raw/positive/coughing/108017__erocshadow__cough\n",
      "data/raw/positive/coughing/spectorj__voice-request-33-sarcastic-coughing\n",
      "data/raw/positive/coughing/650914__frenkfurth__coughing-001\n",
      "data/raw/positive/coughing/mix3_cough_train\n",
      "data/raw/positive/coughing/371360__goldkelchen__cough\n",
      "data/raw/positive/coughing/408888__puzzelz__coughing\n",
      "data/raw/positive/coughing/466555__danieldouch__coughs\n",
      "data/raw/positive/coughing/494839__nyxlurvig__horrible-female-cough\n",
      "data/raw/positive/coughing/620475__jd_brick_productions__man-coughing\n",
      "data/raw/positive/coughing/mix0_cough_train\n",
      "data/raw/positive/coughing/353649__permagnuslindborg__cough\n",
      "data/raw/positive/coughing/607423__bennathanras__bad-cough\n",
      "data/raw/positive/coughing/445479__caseymoura__cough\n",
      "data/raw/positive/coughing/148310__elgeorgia__cough\n"
     ]
    }
   ],
   "source": [
    "erocshadow_cough_folder = \"data/raw/positive/coughing\"\n",
    "\n",
    "erocshadow_cough = load_positive_data(root_dir=erocshadow_cough_folder)\n"
   ]
  },
  {
   "cell_type": "code",
   "execution_count": 47,
   "metadata": {},
   "outputs": [
    {
     "name": "stdout",
     "output_type": "stream",
     "text": [
      "[ 0.00064087 -0.00192261  0.0020752  ... -0.02819824 -0.01596069\n",
      " -0.02526855]\n"
     ]
    }
   ],
   "source": [
    "\n",
    "print(erocshadow_cough[0]) # The first cough in mix2_cough_train, 13363 samples"
   ]
  },
  {
   "cell_type": "code",
   "execution_count": null,
   "metadata": {},
   "outputs": [],
   "source": []
  }
 ],
 "metadata": {
  "kernelspec": {
   "display_name": ".venv",
   "language": "python",
   "name": "python3"
  },
  "language_info": {
   "codemirror_mode": {
    "name": "ipython",
    "version": 3
   },
   "file_extension": ".py",
   "mimetype": "text/x-python",
   "name": "python",
   "nbconvert_exporter": "python",
   "pygments_lexer": "ipython3",
   "version": "3.9.6"
  }
 },
 "nbformat": 4,
 "nbformat_minor": 2
}
