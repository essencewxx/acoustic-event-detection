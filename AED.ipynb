{
 "cells": [
  {
   "cell_type": "code",
   "execution_count": 29,
   "metadata": {},
   "outputs": [],
   "source": [
    "import src.load_data as load_data\n",
    "import src.feature_extraction as feature_extraction"
   ]
  },
  {
   "cell_type": "markdown",
   "metadata": {},
   "source": [
    "# Load data"
   ]
  },
  {
   "cell_type": "code",
   "execution_count": null,
   "metadata": {},
   "outputs": [],
   "source": [
    "positive_sample_folder_batch1 = \"data/raw/positive/coughing\"\n",
    "positive_segments_batch1 = load_data.load_positive_data(positive_sample_folder_batch1)\n",
    "print(positive_segments_batch1[0]) # The first cough in mix2_cough_train, 13363 samples, last 0.835s\n",
    "print(f\"Number of positive samples from coughing folder is {len(positive_segments_batch1)}\") \n",
    "load_data.get_segment_statistics(positive_segments_batch1)"
   ]
  },
  {
   "cell_type": "code",
   "execution_count": null,
   "metadata": {},
   "outputs": [],
   "source": [
    "positive_sample_folder_batch2 = \"data/raw/positive/coughing_batch_2\"\n",
    "positive_segments_batch2 = load_data.load_positive_data(positive_sample_folder_batch2)\n",
    "print(positive_segments_batch2[0]) # The first cough in mix2_cough_train, 13363 samples, last 0.835s\n",
    "print(f\"Number of positive samples from coughing folder is {len(positive_segments_batch2)}\")\n",
    "load_data.get_segment_statistics(positive_segments_batch2)"
   ]
  },
  {
   "cell_type": "code",
   "execution_count": null,
   "metadata": {},
   "outputs": [],
   "source": [
    "negative_segments_batch1 = load_data.load_negative_data(positive_sample_folder_batch1)\n",
    "print(negative_segments_batch1[0])\n",
    "print(f\"Number of negative samples from coughing folder batch1 is {len(negative_segments_batch1)}\")\n",
    "load_data.get_segment_statistics(negative_segments_batch1)"
   ]
  },
  {
   "cell_type": "code",
   "execution_count": null,
   "metadata": {},
   "outputs": [],
   "source": [
    "negative_segments_batch2 = load_data.load_negative_data(positive_sample_folder_batch2, segments_per_file=2, seed=99)\n",
    "print(negative_segments_batch2[0])\n",
    "print(f\"Number of positive samples from coughing folder is {len(negative_segments_batch2)}\")\n",
    "load_data.get_segment_statistics(negative_segments_batch2)"
   ]
  },
  {
   "cell_type": "code",
   "execution_count": null,
   "metadata": {},
   "outputs": [],
   "source": [
    "negative_sample_folder_laugh = \"data/raw/negative/laugh\"\n",
    "negative_segments_laugh = load_data.load_negative_data(negative_sample_folder_laugh, segments_per_file=45, seed=42)\n",
    "print(f\"Number of negative samples from laugh folder is {len(negative_segments_laugh)}\")\n",
    "load_data.get_segment_statistics(negative_segments_laugh)"
   ]
  },
  {
   "cell_type": "code",
   "execution_count": null,
   "metadata": {},
   "outputs": [],
   "source": [
    "negative_sample_folder_mic_tap = \"data/raw/negative/mic_tapping/studio\"\n",
    "negative_segments_mic_tap = load_data.load_negative_data(negative_sample_folder_mic_tap, segments_per_file=40, seed=123)\n",
    "print(f\"Number of negative samples from mic tapping folder is {len(negative_segments_mic_tap)}\")\n",
    "load_data.get_segment_statistics(negative_segments_mic_tap)"
   ]
  },
  {
   "cell_type": "code",
   "execution_count": null,
   "metadata": {},
   "outputs": [],
   "source": [
    "negative_sample_folder_people_talk = \"data/raw/negative/people_talking\"\n",
    "negative_segments_people_talk = load_data.load_negative_data(negative_sample_folder_people_talk, segments_per_file=35, seed=1)\n",
    "print(f\"Number of negative samples from people talk folder is {len(negative_segments_people_talk)}\")\n",
    "load_data.get_segment_statistics(negative_segments_people_talk)"
   ]
  },
  {
   "cell_type": "markdown",
   "metadata": {},
   "source": [
    "# Feature extraction"
   ]
  },
  {
   "cell_type": "code",
   "execution_count": 23,
   "metadata": {},
   "outputs": [],
   "source": [
    "positive_features_mel = []\n",
    "for segment in positive_segments_batch1:\n",
    "    feature = feature_extraction.extract_mel_spectrogram(segment, sr=16000)\n",
    "    positive_features_mel.append(feature)\n",
    "\n",
    "positive_features_mfcc = []\n",
    "for segment in positive_segments_batch1:\n",
    "    feature = feature_extraction.extract_mfcc(segment, sr=16000)\n",
    "    positive_features_mfcc.append(feature)"
   ]
  },
  {
   "cell_type": "code",
   "execution_count": 26,
   "metadata": {},
   "outputs": [],
   "source": [
    "negative_features_mel = []\n",
    "for segment in negative_segments_laugh:\n",
    "    feature = feature_extraction.extract_mel_spectrogram(segment, sr=16000)\n",
    "    negative_features_mel.append(feature)\n",
    "\n",
    "negative_features_mfcc = []\n",
    "for segment in negative_segments_laugh:\n",
    "    feature = feature_extraction.extract_mfcc(segment, sr=16000)\n",
    "    negative_features_mfcc.append(feature)"
   ]
  },
  {
   "cell_type": "code",
   "execution_count": null,
   "metadata": {},
   "outputs": [],
   "source": [
    "feature_extraction.plot_log_spectrogram(positive_features_mel[1])\n",
    "feature_extraction.plot_mfccs(positive_features_mfcc[1])"
   ]
  },
  {
   "cell_type": "code",
   "execution_count": null,
   "metadata": {},
   "outputs": [],
   "source": [
    "feature_extraction.plot_log_spectrogram(negative_features_mel[10])\n",
    "feature_extraction.plot_mfccs(negative_features_mfcc[10])"
   ]
  }
 ],
 "metadata": {
  "kernelspec": {
   "display_name": ".venv",
   "language": "python",
   "name": "python3"
  },
  "language_info": {
   "codemirror_mode": {
    "name": "ipython",
    "version": 3
   },
   "file_extension": ".py",
   "mimetype": "text/x-python",
   "name": "python",
   "nbconvert_exporter": "python",
   "pygments_lexer": "ipython3",
   "version": "3.9.6"
  }
 },
 "nbformat": 4,
 "nbformat_minor": 2
}
