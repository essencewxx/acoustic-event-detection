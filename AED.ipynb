{
 "cells": [
  {
   "cell_type": "markdown",
   "metadata": {},
   "source": [
    "# Load data"
   ]
  },
  {
   "cell_type": "code",
   "execution_count": 13,
   "metadata": {},
   "outputs": [],
   "source": [
    "import os\n",
    "import librosa\n",
    "import pandas as pd\n",
    "import src.label_parsing as lp \n",
    "\n",
    "def load_positive_data(root_dir, sample_rate=16000):\n",
    "    \"\"\"\n",
    "    Load positive (cough) segments from a dataset where each sample is in its own folder.\n",
    "\n",
    "    Parameters:\n",
    "    - root_dir: Root directory containing positive sample folders.\n",
    "    - sample_rate: Sampling rate for loading audio files.\n",
    "\n",
    "    Returns:\n",
    "    - segments: List of NumPy arrays containing cough audio segments.\n",
    "    \"\"\"\n",
    "    segments = []\n",
    "    # Iterate over each sample folder\n",
    "    for sample_folder in os.listdir(root_dir):\n",
    "        sample_path = os.path.join(root_dir, sample_folder)\n",
    "        if os.path.isdir(sample_path):\n",
    "            # Define paths to audio and label files\n",
    "            audio_file = os.path.join(sample_path, 'data.wav')\n",
    "            label_file = os.path.join(sample_path, 'label.label')\n",
    "            # Check if both files exist\n",
    "            if os.path.exists(audio_file) and os.path.exists(label_file):\n",
    "                print(\"------------------------\")\n",
    "                print(\"Data File:\", audio_file)\n",
    "                print(\"Label File:\", label_file)\n",
    "                print(\"------------------------\")\n",
    "                # Load audio file\n",
    "                audio, sr = librosa.load(audio_file, sr=sample_rate)\n",
    "                # Load labels\n",
    "                labels = pd.read_csv(label_file)\n",
    "                # Ensure labels have the necessary columns\n",
    "                if {'Time(Seconds)', 'Length(Seconds)'}.issubset(labels.columns):\n",
    "                    for index, row in labels.iterrows():\n",
    "                        start_sample = int(row['Time(Seconds)'] * sr)\n",
    "                        end_sample = int((row['Time(Seconds)'] + row['Length(Seconds)']) * sr)\n",
    "                        segment = audio[start_sample:end_sample]\n",
    "                        segments.append(segment)\n",
    "                else:\n",
    "                    print(f\"Label file {label_file} missing 'Time(Seconds)' or 'Length(Seconds)' columns.\")\n",
    "            else:\n",
    "                print(f\"Missing audio or label file in {sample_path}.\")\n",
    "    return segments\n"
   ]
  },
  {
   "cell_type": "code",
   "execution_count": null,
   "metadata": {},
   "outputs": [],
   "source": [
    "\n",
    "cough_folder = \"data/raw/positive/coughing\"\n",
    "cough_seg = load_positive_data(cough_folder)\n",
    "print(cough_seg[0]) # The first cough in mix2_cough_train, 13363 samples"
   ]
  },
  {
   "cell_type": "markdown",
   "metadata": {},
   "source": [
    "# Feature extraction"
   ]
  },
  {
   "cell_type": "code",
   "execution_count": 15,
   "metadata": {},
   "outputs": [],
   "source": [
    "import librosa\n",
    "import numpy as np\n",
    "\n",
    "def extract_mel_spectrogram(segment, sr, n_mels=64):\n",
    "    spectrogram = librosa.feature.melspectrogram(y=segment, sr=sr, n_mels=n_mels)\n",
    "    log_spectrogram = librosa.power_to_db(spectrogram)\n",
    "    return log_spectrogram"
   ]
  },
  {
   "cell_type": "code",
   "execution_count": null,
   "metadata": {},
   "outputs": [],
   "source": []
  }
 ],
 "metadata": {
  "kernelspec": {
   "display_name": ".venv",
   "language": "python",
   "name": "python3"
  },
  "language_info": {
   "codemirror_mode": {
    "name": "ipython",
    "version": 3
   },
   "file_extension": ".py",
   "mimetype": "text/x-python",
   "name": "python",
   "nbconvert_exporter": "python",
   "pygments_lexer": "ipython3",
   "version": "3.9.6"
  }
 },
 "nbformat": 4,
 "nbformat_minor": 2
}
